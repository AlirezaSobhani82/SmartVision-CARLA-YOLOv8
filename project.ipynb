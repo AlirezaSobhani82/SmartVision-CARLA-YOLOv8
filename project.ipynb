{
 "cells": [
  {
   "cell_type": "code",
   "id": "initial_id",
   "metadata": {
    "collapsed": true,
    "ExecuteTime": {
     "end_time": "2025-08-20T08:15:07.603818Z",
     "start_time": "2025-08-20T08:15:06.998476Z"
    }
   },
   "source": "from ultralytics import YOLO",
   "outputs": [],
   "execution_count": 10
  },
  {
   "metadata": {
    "ExecuteTime": {
     "end_time": "2025-08-20T08:06:49.941080Z",
     "start_time": "2025-08-20T08:06:49.797040Z"
    }
   },
   "cell_type": "code",
   "source": "model = YOLO(\"yolov8n.pt\")",
   "id": "c09351a6ae83fc70",
   "outputs": [],
   "execution_count": 3
  },
  {
   "metadata": {},
   "cell_type": "code",
   "source": [
    "train_model = model.train(data=\"E:\\\\My projects\\\\car\\\\data.yaml\",\n",
    "                          imgsz=340,\n",
    "                          epochs=100,\n",
    "                          patience=20,\n",
    "                          save=True)"
   ],
   "id": "7321ced360755677",
   "outputs": [],
   "execution_count": null
  },
  {
   "metadata": {
    "ExecuteTime": {
     "end_time": "2025-08-20T08:07:40.779908Z",
     "start_time": "2025-08-20T08:07:40.621933Z"
    }
   },
   "cell_type": "code",
   "source": [
    "model.predict(data=\"E:\\\\My projects\\\\car\\\\runs\\\\detect\\\\train\\\\weights\\\\best.pt\",\n",
    "              source=\"E:\\\\My projects\\\\car\\\\test\\\\images\\\\1404_jpg.rf.aa3c986904dc08c315598b714d306e41.jpg\",\n",
    "              save=True)"
   ],
   "id": "e4199ffedbc3e21c",
   "outputs": [
    {
     "name": "stdout",
     "output_type": "stream",
     "text": [
      "\n",
      "image 1/1 E:\\My projects\\car\\test\\images\\1404_jpg.rf.aa3c986904dc08c315598b714d306e41.jpg: 640x640 4 cars, 125.4ms\n",
      "Speed: 6.2ms preprocess, 125.4ms inference, 0.9ms postprocess per image at shape (1, 3, 640, 640)\n",
      "Results saved to \u001B[1mruns\\detect\\predict\u001B[0m\n"
     ]
    },
    {
     "data": {
      "text/plain": [
       "[ultralytics.engine.results.Results object with attributes:\n",
       " \n",
       " boxes: ultralytics.engine.results.Boxes object\n",
       " keypoints: None\n",
       " masks: None\n",
       " names: {0: 'person', 1: 'bicycle', 2: 'car', 3: 'motorcycle', 4: 'airplane', 5: 'bus', 6: 'train', 7: 'truck', 8: 'boat', 9: 'traffic light', 10: 'fire hydrant', 11: 'stop sign', 12: 'parking meter', 13: 'bench', 14: 'bird', 15: 'cat', 16: 'dog', 17: 'horse', 18: 'sheep', 19: 'cow', 20: 'elephant', 21: 'bear', 22: 'zebra', 23: 'giraffe', 24: 'backpack', 25: 'umbrella', 26: 'handbag', 27: 'tie', 28: 'suitcase', 29: 'frisbee', 30: 'skis', 31: 'snowboard', 32: 'sports ball', 33: 'kite', 34: 'baseball bat', 35: 'baseball glove', 36: 'skateboard', 37: 'surfboard', 38: 'tennis racket', 39: 'bottle', 40: 'wine glass', 41: 'cup', 42: 'fork', 43: 'knife', 44: 'spoon', 45: 'bowl', 46: 'banana', 47: 'apple', 48: 'sandwich', 49: 'orange', 50: 'broccoli', 51: 'carrot', 52: 'hot dog', 53: 'pizza', 54: 'donut', 55: 'cake', 56: 'chair', 57: 'couch', 58: 'potted plant', 59: 'bed', 60: 'dining table', 61: 'toilet', 62: 'tv', 63: 'laptop', 64: 'mouse', 65: 'remote', 66: 'keyboard', 67: 'cell phone', 68: 'microwave', 69: 'oven', 70: 'toaster', 71: 'sink', 72: 'refrigerator', 73: 'book', 74: 'clock', 75: 'vase', 76: 'scissors', 77: 'teddy bear', 78: 'hair drier', 79: 'toothbrush'}\n",
       " obb: None\n",
       " orig_img: array([[[149, 125, 113],\n",
       "         [149, 125, 113],\n",
       "         [149, 125, 113],\n",
       "         ...,\n",
       "         [148, 124, 112],\n",
       "         [148, 124, 112],\n",
       "         [148, 124, 112]],\n",
       " \n",
       "        [[149, 125, 113],\n",
       "         [149, 125, 113],\n",
       "         [149, 125, 113],\n",
       "         ...,\n",
       "         [148, 124, 112],\n",
       "         [148, 124, 112],\n",
       "         [148, 124, 112]],\n",
       " \n",
       "        [[149, 125, 113],\n",
       "         [149, 125, 113],\n",
       "         [149, 125, 113],\n",
       "         ...,\n",
       "         [148, 124, 112],\n",
       "         [148, 124, 112],\n",
       "         [148, 124, 112]],\n",
       " \n",
       "        ...,\n",
       " \n",
       "        [[ 93,  91,  91],\n",
       "         [ 90,  88,  88],\n",
       "         [ 86,  84,  84],\n",
       "         ...,\n",
       "         [ 93,  91,  91],\n",
       "         [ 90,  88,  88],\n",
       "         [ 87,  85,  85]],\n",
       " \n",
       "        [[ 90,  88,  88],\n",
       "         [ 91,  89,  89],\n",
       "         [ 90,  88,  88],\n",
       "         ...,\n",
       "         [ 91,  89,  89],\n",
       "         [ 90,  88,  88],\n",
       "         [ 89,  87,  87]],\n",
       " \n",
       "        [[ 90,  88,  88],\n",
       "         [ 94,  92,  92],\n",
       "         [ 97,  95,  95],\n",
       "         ...,\n",
       "         [ 89,  87,  87],\n",
       "         [ 89,  87,  87],\n",
       "         [ 90,  88,  88]]], shape=(416, 416, 3), dtype=uint8)\n",
       " orig_shape: (416, 416)\n",
       " path: 'E:\\\\My projects\\\\car\\\\test\\\\images\\\\1404_jpg.rf.aa3c986904dc08c315598b714d306e41.jpg'\n",
       " probs: None\n",
       " save_dir: 'runs\\\\detect\\\\predict'\n",
       " speed: {'preprocess': 6.248100020457059, 'inference': 125.44450000859797, 'postprocess': 0.9452000085730106}]"
      ]
     },
     "execution_count": 5,
     "metadata": {},
     "output_type": "execute_result"
    }
   ],
   "execution_count": 5
  },
  {
   "metadata": {
    "ExecuteTime": {
     "end_time": "2025-08-20T08:09:13.829846Z",
     "start_time": "2025-08-20T08:08:50.028758Z"
    }
   },
   "cell_type": "code",
   "source": "model_1 = YOLO(\"yolov8n-seg.pt\")",
   "id": "647cb3c92ad43504",
   "outputs": [
    {
     "name": "stderr",
     "output_type": "stream",
     "text": [
      "Downloading https://github.com/ultralytics/assets/releases/download/v8.3.0/yolov8n-seg.pt to 'yolov8n-seg.pt': 100%|██████████| 6.74M/6.74M [00:21<00:00, 327kB/s] \n"
     ]
    }
   ],
   "execution_count": 6
  },
  {
   "metadata": {
    "ExecuteTime": {
     "end_time": "2025-08-20T08:11:47.485250Z",
     "start_time": "2025-08-20T08:11:47.137163Z"
    }
   },
   "cell_type": "code",
   "source": [
    "results = model_1.predict(\n",
    "    source=r\"E:\\My projects\\car\\test\\images\\1404_jpg.rf.aa3c986904dc08c315598b714d306e41.jpg\",\n",
    "    save=True,\n",
    "    conf=0.25)"
   ],
   "id": "bc612acd04bee26f",
   "outputs": [
    {
     "name": "stdout",
     "output_type": "stream",
     "text": [
      "\n",
      "image 1/1 E:\\My projects\\car\\test\\images\\1404_jpg.rf.aa3c986904dc08c315598b714d306e41.jpg: 640x640 1 person, 6 cars, 182.7ms\n",
      "Speed: 4.9ms preprocess, 182.7ms inference, 17.8ms postprocess per image at shape (1, 3, 640, 640)\n",
      "Results saved to \u001B[1mruns\\segment\\predict\u001B[0m\n"
     ]
    }
   ],
   "execution_count": 9
  },
  {
   "metadata": {},
   "cell_type": "code",
   "outputs": [],
   "execution_count": null,
   "source": "",
   "id": "d03d5cd012cc8d90"
  }
 ],
 "metadata": {
  "kernelspec": {
   "display_name": "Python 3",
   "language": "python",
   "name": "python3"
  },
  "language_info": {
   "codemirror_mode": {
    "name": "ipython",
    "version": 2
   },
   "file_extension": ".py",
   "mimetype": "text/x-python",
   "name": "python",
   "nbconvert_exporter": "python",
   "pygments_lexer": "ipython2",
   "version": "2.7.6"
  }
 },
 "nbformat": 4,
 "nbformat_minor": 5
}
